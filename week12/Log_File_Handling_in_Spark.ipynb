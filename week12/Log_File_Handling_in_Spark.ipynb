{
  "nbformat": 4,
  "nbformat_minor": 0,
  "metadata": {
    "colab": {
      "provenance": []
    },
    "kernelspec": {
      "name": "python3",
      "display_name": "Python 3"
    },
    "language_info": {
      "name": "python"
    }
  },
  "cells": [
    {
      "cell_type": "code",
      "source": [
        "!pip install pyspark==3.5.3"
      ],
      "metadata": {
        "colab": {
          "base_uri": "https://localhost:8080/"
        },
        "id": "-cLj_ohmjRhI",
        "outputId": "df0cc3ee-6caf-41ef-9f8f-40e6cfe0965d"
      },
      "execution_count": 1,
      "outputs": [
        {
          "output_type": "stream",
          "name": "stdout",
          "text": [
            "Requirement already satisfied: pyspark==3.5.3 in /usr/local/lib/python3.10/dist-packages (3.5.3)\n",
            "Requirement already satisfied: py4j==0.10.9.7 in /usr/local/lib/python3.10/dist-packages (from pyspark==3.5.3) (0.10.9.7)\n"
          ]
        }
      ]
    },
    {
      "cell_type": "code",
      "source": [
        "!wget -nc https://raw.githubusercontent.com/keeyong/sjsu-data226/refs/heads/main/week12/data/sample_web_log_1.log.gz\n",
        "!wget -nc https://raw.githubusercontent.com/keeyong/sjsu-data226/refs/heads/main/week12/data/sample_web_log_2.log.gz\n",
        "!wget -nc https://raw.githubusercontent.com/keeyong/sjsu-data226/refs/heads/main/week12/data/sample_web_log_3.log.gz\n",
        "!wget -nc https://raw.githubusercontent.com/keeyong/sjsu-data226/refs/heads/main/week12/data/sample_web_log_4.log.gz\n",
        "!wget -nc https://raw.githubusercontent.com/keeyong/sjsu-data226/refs/heads/main/week12/data/sample_web_log_5.log.gz\n",
        "!wget -nc https://raw.githubusercontent.com/keeyong/sjsu-data226/refs/heads/main/week12/data/sample_web_log_6.log.gz\n",
        "!wget -nc https://raw.githubusercontent.com/keeyong/sjsu-data226/refs/heads/main/week12/data/sample_web_log_7.log.gz"
      ],
      "metadata": {
        "colab": {
          "base_uri": "https://localhost:8080/"
        },
        "id": "Arz87s-pjs2g",
        "outputId": "7cfee5c3-e3ac-445d-c36f-802243ea76ae"
      },
      "execution_count": 39,
      "outputs": [
        {
          "output_type": "stream",
          "name": "stdout",
          "text": [
            "--2024-11-05 18:55:01--  https://raw.githubusercontent.com/keeyong/sjsu-data226/refs/heads/main/week12/data/sample_web_log_1.log.gz\n",
            "Resolving raw.githubusercontent.com (raw.githubusercontent.com)... 185.199.110.133, 185.199.111.133, 185.199.109.133, ...\n",
            "Connecting to raw.githubusercontent.com (raw.githubusercontent.com)|185.199.110.133|:443... connected.\n",
            "HTTP request sent, awaiting response... 200 OK\n",
            "Length: 10277393 (9.8M) [application/octet-stream]\n",
            "Saving to: ‘sample_web_log_1.log.gz’\n",
            "\n",
            "sample_web_log_1.lo 100%[===================>]   9.80M  32.2MB/s    in 0.3s    \n",
            "\n",
            "2024-11-05 18:55:02 (32.2 MB/s) - ‘sample_web_log_1.log.gz’ saved [10277393/10277393]\n",
            "\n",
            "File ‘sample_web_log_2.log.gz’ already there; not retrieving.\n",
            "\n",
            "File ‘sample_web_log_3.log.gz’ already there; not retrieving.\n",
            "\n",
            "File ‘sample_web_log_4.log.gz’ already there; not retrieving.\n",
            "\n",
            "File ‘sample_web_log_5.log.gz’ already there; not retrieving.\n",
            "\n",
            "File ‘sample_web_log_6.log.gz’ already there; not retrieving.\n",
            "\n",
            "File ‘sample_web_log_7.log.gz’ already there; not retrieving.\n",
            "\n"
          ]
        }
      ]
    },
    {
      "cell_type": "markdown",
      "source": [
        "## Let's set up Spark Session and create an input dataframe"
      ],
      "metadata": {
        "id": "aI3SZAySraK8"
      }
    },
    {
      "cell_type": "code",
      "execution_count": 6,
      "metadata": {
        "id": "2ehI1dj_i7H1"
      },
      "outputs": [],
      "source": [
        "from pyspark.sql import SparkSession\n",
        "import pyspark.sql.functions as F\n",
        "\n",
        "spark = SparkSession.builder.appName(\"HandleLogFiles\").getOrCreate()"
      ]
    },
    {
      "cell_type": "code",
      "source": [
        "# Load all .gz files in the directory into a DataFrame\n",
        "df = spark.read.text(\"*.gz\")"
      ],
      "metadata": {
        "id": "gj7BXxCrjP8Y"
      },
      "execution_count": null,
      "outputs": []
    },
    {
      "cell_type": "code",
      "source": [
        "# Check the number of partitions\n",
        "print(df.rdd.getNumPartitions())\n",
        "\n",
        "df.show(truncate=False)"
      ],
      "metadata": {
        "colab": {
          "base_uri": "https://localhost:8080/"
        },
        "id": "jeiOExAiv2eY",
        "outputId": "bb81f5c2-9e77-4af3-a45e-f4b054b8fa6c"
      },
      "execution_count": 40,
      "outputs": [
        {
          "output_type": "stream",
          "name": "stdout",
          "text": [
            "2\n",
            "+-----------------------------------------------------------------------------------+\n",
            "|value                                                                              |\n",
            "+-----------------------------------------------------------------------------------+\n",
            "|123.45.67.89 - - [05/Nov/2024:02:08:16 +0000] \"DELETE /cart HTTP/1.1\" 500 242      |\n",
            "|192.168.1.1 - - [04/Nov/2024:21:23:39 +0000] \"POST /checkout HTTP/1.1\" 404 2781    |\n",
            "|234.56.78.90 - - [05/Nov/2024:07:06:19 +0000] \"GET /api/data HTTP/1.1\" 301 3758    |\n",
            "|192.168.1.1 - - [04/Nov/2024:20:03:56 +0000] \"POST /home HTTP/1.1\" 200 1837        |\n",
            "|192.168.1.1 - - [04/Nov/2024:21:25:05 +0000] \"GET /products/123 HTTP/1.1\" 200 3430 |\n",
            "|234.56.78.90 - - [04/Nov/2024:07:38:10 +0000] \"GET /api/data HTTP/1.1\" 404 3729    |\n",
            "|123.45.67.89 - - [04/Nov/2024:12:33:22 +0000] \"PUT /api/data HTTP/1.1\" 404 799     |\n",
            "|192.168.1.1 - - [04/Nov/2024:07:37:46 +0000] \"GET /api/data HTTP/1.1\" 500 309      |\n",
            "|123.45.67.89 - - [04/Nov/2024:21:52:36 +0000] \"POST /checkout HTTP/1.1\" 301 2375   |\n",
            "|123.45.67.89 - - [04/Nov/2024:08:36:44 +0000] \"DELETE /api/data HTTP/1.1\" 404 3449 |\n",
            "|192.168.1.1 - - [05/Nov/2024:03:15:43 +0000] \"GET /api/data HTTP/1.1\" 200 2319     |\n",
            "|234.56.78.90 - - [05/Nov/2024:01:26:03 +0000] \"DELETE /home HTTP/1.1\" 500 1168     |\n",
            "|234.56.78.90 - - [05/Nov/2024:03:26:33 +0000] \"DELETE /cart HTTP/1.1\" 500 1262     |\n",
            "|123.45.67.89 - - [04/Nov/2024:20:46:25 +0000] \"PUT /home HTTP/1.1\" 301 4401        |\n",
            "|123.45.67.89 - - [05/Nov/2024:08:07:51 +0000] \"GET /api/data HTTP/1.1\" 301 3736    |\n",
            "|123.45.67.89 - - [04/Nov/2024:21:01:30 +0000] \"DELETE /cart HTTP/1.1\" 404 2418     |\n",
            "|123.45.67.89 - - [04/Nov/2024:09:40:29 +0000] \"POST /api/data HTTP/1.1\" 301 3260   |\n",
            "|234.56.78.90 - - [04/Nov/2024:09:23:42 +0000] \"GET /home HTTP/1.1\" 200 1488        |\n",
            "|192.168.1.1 - - [04/Nov/2024:11:53:57 +0000] \"POST /products/123 HTTP/1.1\" 200 2627|\n",
            "|234.56.78.90 - - [05/Nov/2024:01:26:01 +0000] \"PUT /cart HTTP/1.1\" 500 4406        |\n",
            "+-----------------------------------------------------------------------------------+\n",
            "only showing top 20 rows\n",
            "\n"
          ]
        }
      ]
    },
    {
      "cell_type": "code",
      "source": [
        "# Extract the necessary information from log data using regular expressions\n",
        "pattern = r'(\\d+\\.\\d+\\.\\d+\\.\\d+) - - \\[(.*?)\\] \"(.*?) (.*?) HTTP.*\" (\\d+) (\\d+)'\n",
        "\n",
        "log_df = df.select(\n",
        "    F.regexp_extract(\"value\", pattern, 1).alias(\"ip\"),\n",
        "    F.regexp_extract(\"value\", pattern, 2).alias(\"timestamp\"),\n",
        "    F.regexp_extract(\"value\", pattern, 3).alias(\"method\"),\n",
        "    F.regexp_extract(\"value\", pattern, 4).alias(\"url\"),\n",
        "    F.regexp_extract(\"value\", pattern, 5).alias(\"status\").cast(\"integer\"),\n",
        "    F.regexp_extract(\"value\", pattern, 6).alias(\"size\").cast(\"integer\")\n",
        ")"
      ],
      "metadata": {
        "id": "Alu6rcohlocq"
      },
      "execution_count": null,
      "outputs": []
    },
    {
      "cell_type": "code",
      "source": [
        "log_df.show()"
      ],
      "metadata": {
        "colab": {
          "base_uri": "https://localhost:8080/"
        },
        "id": "HODpzu0eopyX",
        "outputId": "0e3f872f-c444-4374-e30f-4f46f7b6fdf7"
      },
      "execution_count": 29,
      "outputs": [
        {
          "output_type": "stream",
          "name": "stdout",
          "text": [
            "+------------+--------------------+------+-------------+------+----+\n",
            "|          ip|           timestamp|method|          url|status|size|\n",
            "+------------+--------------------+------+-------------+------+----+\n",
            "|123.45.67.89|05/Nov/2024:02:08...|DELETE|        /cart|   500| 242|\n",
            "| 192.168.1.1|04/Nov/2024:21:23...|  POST|    /checkout|   404|2781|\n",
            "|234.56.78.90|05/Nov/2024:07:06...|   GET|    /api/data|   301|3758|\n",
            "| 192.168.1.1|04/Nov/2024:20:03...|  POST|        /home|   200|1837|\n",
            "| 192.168.1.1|04/Nov/2024:21:25...|   GET|/products/123|   200|3430|\n",
            "|234.56.78.90|04/Nov/2024:07:38...|   GET|    /api/data|   404|3729|\n",
            "|123.45.67.89|04/Nov/2024:12:33...|   PUT|    /api/data|   404| 799|\n",
            "| 192.168.1.1|04/Nov/2024:07:37...|   GET|    /api/data|   500| 309|\n",
            "|123.45.67.89|04/Nov/2024:21:52...|  POST|    /checkout|   301|2375|\n",
            "|123.45.67.89|04/Nov/2024:08:36...|DELETE|    /api/data|   404|3449|\n",
            "| 192.168.1.1|05/Nov/2024:03:15...|   GET|    /api/data|   200|2319|\n",
            "|234.56.78.90|05/Nov/2024:01:26...|DELETE|        /home|   500|1168|\n",
            "|234.56.78.90|05/Nov/2024:03:26...|DELETE|        /cart|   500|1262|\n",
            "|123.45.67.89|04/Nov/2024:20:46...|   PUT|        /home|   301|4401|\n",
            "|123.45.67.89|05/Nov/2024:08:07...|   GET|    /api/data|   301|3736|\n",
            "|123.45.67.89|04/Nov/2024:21:01...|DELETE|        /cart|   404|2418|\n",
            "|123.45.67.89|04/Nov/2024:09:40...|  POST|    /api/data|   301|3260|\n",
            "|234.56.78.90|04/Nov/2024:09:23...|   GET|        /home|   200|1488|\n",
            "| 192.168.1.1|04/Nov/2024:11:53...|  POST|/products/123|   200|2627|\n",
            "|234.56.78.90|05/Nov/2024:01:26...|   PUT|        /cart|   500|4406|\n",
            "+------------+--------------------+------+-------------+------+----+\n",
            "only showing top 20 rows\n",
            "\n"
          ]
        }
      ]
    },
    {
      "cell_type": "markdown",
      "source": [
        "## Let's compute top 404 urls"
      ],
      "metadata": {
        "id": "YiqH3duQrUNc"
      }
    },
    {
      "cell_type": "code",
      "source": [
        "# Keep only 404 error logs\n",
        "error_404_logs = log_df.filter(log_df.status == 404)"
      ],
      "metadata": {
        "id": "6rLNqA4CnyER"
      },
      "execution_count": 24,
      "outputs": []
    },
    {
      "cell_type": "code",
      "source": [
        "# Group by URL and then count, and sort by count in descending order\n",
        "url_404_count = error_404_logs.groupBy(\"url\").count().orderBy(F.desc(\"count\"))"
      ],
      "metadata": {
        "id": "npcs760FoBbu"
      },
      "execution_count": 25,
      "outputs": []
    },
    {
      "cell_type": "code",
      "source": [
        "# print the outcome\n",
        "url_404_count.show()"
      ],
      "metadata": {
        "colab": {
          "base_uri": "https://localhost:8080/"
        },
        "id": "BXaeAJwDoDzV",
        "outputId": "69662df7-faf5-45f6-d490-8477e015c0fe"
      },
      "execution_count": 26,
      "outputs": [
        {
          "output_type": "stream",
          "name": "stdout",
          "text": [
            "+-------------+------+\n",
            "|          url| count|\n",
            "+-------------+------+\n",
            "|/products/123|300653|\n",
            "|        /home|300048|\n",
            "|    /api/data|299683|\n",
            "|        /cart|299543|\n",
            "|    /checkout|299506|\n",
            "+-------------+------+\n",
            "\n"
          ]
        }
      ]
    },
    {
      "cell_type": "markdown",
      "source": [
        "## Now Let's do this in SparkSQL"
      ],
      "metadata": {
        "id": "u9y7n7zZoTGX"
      }
    },
    {
      "cell_type": "code",
      "source": [
        "# Register the DataFrame as a temporary SQL table\n",
        "log_df.createOrReplaceTempView(\"logs\")"
      ],
      "metadata": {
        "id": "XBml8oMUoSwJ"
      },
      "execution_count": 30,
      "outputs": []
    },
    {
      "cell_type": "code",
      "source": [
        "# Use SparkSQL to count URLs with 404 status\n",
        "url_404_count = spark.sql(\"\"\"\n",
        "    SELECT url, COUNT(*) as count\n",
        "    FROM logs\n",
        "    WHERE status = 404\n",
        "    GROUP BY url\n",
        "    ORDER BY count DESC\n",
        "\"\"\")"
      ],
      "metadata": {
        "id": "uVRYwMG7ojLD"
      },
      "execution_count": 31,
      "outputs": []
    },
    {
      "cell_type": "code",
      "source": [
        "url_404_count.show()"
      ],
      "metadata": {
        "colab": {
          "base_uri": "https://localhost:8080/"
        },
        "id": "xXyylmAhoume",
        "outputId": "951d106b-4969-46eb-9466-e1352d2db42a"
      },
      "execution_count": 32,
      "outputs": [
        {
          "output_type": "stream",
          "name": "stdout",
          "text": [
            "+-------------+------+\n",
            "|          url| count|\n",
            "+-------------+------+\n",
            "|/products/123|300653|\n",
            "|        /home|300048|\n",
            "|    /api/data|299683|\n",
            "|        /cart|299543|\n",
            "|    /checkout|299506|\n",
            "+-------------+------+\n",
            "\n"
          ]
        }
      ]
    },
    {
      "cell_type": "markdown",
      "source": [
        "## Let's save this DF (url_404_count) as a table in Snowflake"
      ],
      "metadata": {
        "id": "6U_8X0Hmoy1B"
      }
    },
    {
      "cell_type": "code",
      "source": [
        "!cd /usr/local/lib/python3.10/dist-packages/pyspark/jars && wget https://repo1.maven.org/maven2/net/snowflake/snowflake-jdbc/3.19.0/snowflake-jdbc-3.19.0.jar"
      ],
      "metadata": {
        "colab": {
          "base_uri": "https://localhost:8080/"
        },
        "id": "aI79TP8ojZTw",
        "outputId": "9f336f8a-1e97-45db-83e1-6fcaa8c1f230"
      },
      "execution_count": 2,
      "outputs": [
        {
          "output_type": "stream",
          "name": "stdout",
          "text": [
            "--2024-11-05 18:20:38--  https://repo1.maven.org/maven2/net/snowflake/snowflake-jdbc/3.19.0/snowflake-jdbc-3.19.0.jar\n",
            "Resolving repo1.maven.org (repo1.maven.org)... 199.232.192.209, 199.232.196.209, 2a04:4e42:4c::209, ...\n",
            "Connecting to repo1.maven.org (repo1.maven.org)|199.232.192.209|:443... connected.\n",
            "HTTP request sent, awaiting response... 200 OK\n",
            "Length: 70986770 (68M) [application/java-archive]\n",
            "Saving to: ‘snowflake-jdbc-3.19.0.jar’\n",
            "\n",
            "snowflake-jdbc-3.19 100%[===================>]  67.70M  22.9MB/s    in 3.0s    \n",
            "\n",
            "2024-11-05 18:20:41 (22.9 MB/s) - ‘snowflake-jdbc-3.19.0.jar’ saved [70986770/70986770]\n",
            "\n"
          ]
        }
      ]
    },
    {
      "cell_type": "code",
      "source": [
        "from google.colab import userdata\n",
        "\n",
        "account = userdata.get('snowflake_account')\n",
        "user = userdata.get('snowflake_userid')\n",
        "password = userdata.get('snowflake_password')\n",
        "database = \"dev\"\n",
        "schema = \"analytics\"\n",
        "\n",
        "url = f\"jdbc:snowflake://{account}.snowflakecomputing.com/?db={database}&schema={schema}&user={user}&password={password}\""
      ],
      "metadata": {
        "id": "zjpcPLEEjhNC"
      },
      "execution_count": 34,
      "outputs": []
    },
    {
      "cell_type": "code",
      "source": [
        "url_404_count.write \\\n",
        "    .format(\"jdbc\") \\\n",
        "    .option(\"driver\", \"net.snowflake.client.jdbc.SnowflakeDriver\") \\\n",
        "    .option(\"url\", url) \\\n",
        "    .option(\"dbtable\", \"url_404_count\") \\\n",
        "    .mode(\"overwrite\") \\\n",
        "    .save()"
      ],
      "metadata": {
        "id": "__jKr1jYjidy"
      },
      "execution_count": 37,
      "outputs": []
    },
    {
      "cell_type": "code",
      "source": [
        "# Now go back to Snowflake and check the table (analytics.url_404_count)"
      ],
      "metadata": {
        "id": "7GpIqkRcqq3-"
      },
      "execution_count": null,
      "outputs": []
    }
  ]
}